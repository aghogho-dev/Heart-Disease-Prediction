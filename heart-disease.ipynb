{
 "cells": [
  {
   "cell_type": "markdown",
   "id": "3d425bf8-fd10-4bb0-afae-bf3903df8fb8",
   "metadata": {},
   "source": [
    "<center style='font-family:Georgia; font-size:40px; font-weight:bold;'>Heart Disease Prediction</center>"
   ]
  },
  {
   "cell_type": "markdown",
   "id": "2e4b9edd-b360-48af-8116-ea0fc15bd1a2",
   "metadata": {},
   "source": [
    "<span style='font-family:Georgia; font-size:20px; font-weight:bold;'>Setup Development Environment</span>\n",
    "\n",
    "<div style='font-family:Georgia; font-size:16px; font-weight:500;'>\n",
    "    Create and activate a virtual environment in Windows\n",
    "    <li><code>python -m venv .venv && .venv\\Scripts\\activate</code></li>\n",
    "    Install `ipykernel` and `notebook`\n",
    "    <li><code>pip install ipykernel notebook</code></li>\n",
    "    Register the environment as a new kernel\n",
    "    <li><code>python -m ipykernel install --user --name=heart-disease</code></li>\n",
    "    Lauch the notebook server and choose the kernel `heart-disease`\n",
    "    <li><code>jupyter notebook</code></li>\n",
    "    <blockquote style=\"border-left: 5px solid #ccc; padding: 10px 20px; background: #f9f9f9; color: #555;\">\n",
    "        It is important to setup a virtual environment and install all your packages there for reproducibility. Different environments have different configuration. The packages installed in your local environment may be different from the ones on Google Colab or Kaggle. Provide your packages with the requirements.txt file: <code>pip freeze > requirements.txt</code>\n",
    "</blockquote>\n",
    "\n",
    "</div>"
   ]
  },
  {
   "cell_type": "code",
   "execution_count": null,
   "id": "6a3e40a9-9109-4300-8dff-f84f3e4a2d00",
   "metadata": {},
   "outputs": [],
   "source": []
  }
 ],
 "metadata": {
  "kernelspec": {
   "display_name": "heart-disease",
   "language": "python",
   "name": "heart-disease"
  },
  "language_info": {
   "codemirror_mode": {
    "name": "ipython",
    "version": 3
   },
   "file_extension": ".py",
   "mimetype": "text/x-python",
   "name": "python",
   "nbconvert_exporter": "python",
   "pygments_lexer": "ipython3",
   "version": "3.13.1"
  }
 },
 "nbformat": 4,
 "nbformat_minor": 5
}
